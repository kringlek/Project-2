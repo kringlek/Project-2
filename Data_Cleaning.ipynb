{
 "cells": [
  {
   "cell_type": "code",
   "execution_count": 1,
   "id": "a8085992",
   "metadata": {},
   "outputs": [],
   "source": [
    "#Import Dependencies\n",
    "import pandas as pd\n",
    "import pandas as pd\n",
    "import numpy as np\n",
    "import matplotlib.pyplot as plt\n",
    "import os\n",
    "import csv\n",
    "from datetime import datetime as dt"
   ]
  },
  {
   "cell_type": "code",
   "execution_count": 2,
   "id": "83f04100",
   "metadata": {},
   "outputs": [],
   "source": [
    "import sqlalchemy\n",
    "from sqlalchemy.ext.automap import automap_base\n",
    "from sqlalchemy.orm import Session\n",
    "from sqlalchemy import create_engine\n",
    "from sqlalchemy import func\n",
    "from sqlalchemy import create_engine\n",
    "from sqlalchemy.dialects.postgresql import insert\n",
    "from sqlalchemy import table, column\n",
    "import datetime"
   ]
  },
  {
   "cell_type": "code",
   "execution_count": 16,
   "id": "d1c42a74",
   "metadata": {},
   "outputs": [
    {
     "data": {
      "text/html": [
       "<div>\n",
       "<style scoped>\n",
       "    .dataframe tbody tr th:only-of-type {\n",
       "        vertical-align: middle;\n",
       "    }\n",
       "\n",
       "    .dataframe tbody tr th {\n",
       "        vertical-align: top;\n",
       "    }\n",
       "\n",
       "    .dataframe thead th {\n",
       "        text-align: right;\n",
       "    }\n",
       "</style>\n",
       "<table border=\"1\" class=\"dataframe\">\n",
       "  <thead>\n",
       "    <tr style=\"text-align: right;\">\n",
       "      <th></th>\n",
       "      <th>GeoFips</th>\n",
       "      <th>GeoName</th>\n",
       "      <th>2012:Q1</th>\n",
       "      <th>2012:Q2</th>\n",
       "      <th>2012:Q3</th>\n",
       "      <th>2012:Q4</th>\n",
       "      <th>2013:Q1</th>\n",
       "      <th>2013:Q2</th>\n",
       "      <th>2013:Q3</th>\n",
       "      <th>2013:Q4</th>\n",
       "      <th>...</th>\n",
       "      <th>2016:Q4</th>\n",
       "      <th>2017:Q1</th>\n",
       "      <th>2017:Q2</th>\n",
       "      <th>2017:Q3</th>\n",
       "      <th>2017:Q4</th>\n",
       "      <th>2018:Q1</th>\n",
       "      <th>2018:Q2</th>\n",
       "      <th>2018:Q3</th>\n",
       "      <th>2018:Q4</th>\n",
       "      <th>2022:Q1</th>\n",
       "    </tr>\n",
       "  </thead>\n",
       "  <tbody>\n",
       "    <tr>\n",
       "      <th>0</th>\n",
       "      <td>0</td>\n",
       "      <td>United States</td>\n",
       "      <td>13782978.7</td>\n",
       "      <td>13937105.4</td>\n",
       "      <td>13907136.3</td>\n",
       "      <td>14386163.6</td>\n",
       "      <td>14010895.7</td>\n",
       "      <td>14150636.3</td>\n",
       "      <td>14240498.3</td>\n",
       "      <td>14354881.7</td>\n",
       "      <td>...</td>\n",
       "      <td>16310112.9</td>\n",
       "      <td>16550511.4</td>\n",
       "      <td>16736270.1</td>\n",
       "      <td>16925356.4</td>\n",
       "      <td>17167974.1</td>\n",
       "      <td>17383520.8</td>\n",
       "      <td>17573877.4</td>\n",
       "      <td>17795581.2</td>\n",
       "      <td>17971656.6</td>\n",
       "      <td>21237207.4</td>\n",
       "    </tr>\n",
       "  </tbody>\n",
       "</table>\n",
       "<p>1 rows × 31 columns</p>\n",
       "</div>"
      ],
      "text/plain": [
       "   GeoFips        GeoName     2012:Q1     2012:Q2     2012:Q3     2012:Q4  \\\n",
       "0        0  United States  13782978.7  13937105.4  13907136.3  14386163.6   \n",
       "\n",
       "      2013:Q1     2013:Q2     2013:Q3     2013:Q4  ...     2016:Q4  \\\n",
       "0  14010895.7  14150636.3  14240498.3  14354881.7  ...  16310112.9   \n",
       "\n",
       "      2017:Q1     2017:Q2     2017:Q3     2017:Q4     2018:Q1     2018:Q2  \\\n",
       "0  16550511.4  16736270.1  16925356.4  17167974.1  17383520.8  17573877.4   \n",
       "\n",
       "      2018:Q3     2018:Q4     2022:Q1  \n",
       "0  17795581.2  17971656.6  21237207.4  \n",
       "\n",
       "[1 rows x 31 columns]"
      ]
     },
     "execution_count": 16,
     "metadata": {},
     "output_type": "execute_result"
    }
   ],
   "source": [
    "#Read in Data from CSV\n",
    "drug_data_csv = \"Resources/drug_deaths.csv\"\n",
    "income_data_csv = \"Resources/per_capita_personal_income.csv\"\n",
    "drug_data = pd.read_csv(drug_data_csv)\n",
    "income_data = pd.read_csv(income_data_csv)\n",
    "#drug_data.head()\n",
    "income_data.head()"
   ]
  },
  {
   "cell_type": "code",
   "execution_count": 17,
   "id": "799b88ec",
   "metadata": {},
   "outputs": [
    {
     "data": {
      "text/html": [
       "<div>\n",
       "<style scoped>\n",
       "    .dataframe tbody tr th:only-of-type {\n",
       "        vertical-align: middle;\n",
       "    }\n",
       "\n",
       "    .dataframe tbody tr th {\n",
       "        vertical-align: top;\n",
       "    }\n",
       "\n",
       "    .dataframe thead th {\n",
       "        text-align: right;\n",
       "    }\n",
       "</style>\n",
       "<table border=\"1\" class=\"dataframe\">\n",
       "  <thead>\n",
       "    <tr style=\"text-align: right;\">\n",
       "      <th></th>\n",
       "      <th>2012:Q1</th>\n",
       "      <th>2012:Q2</th>\n",
       "      <th>2012:Q3</th>\n",
       "      <th>2012:Q4</th>\n",
       "      <th>2013:Q1</th>\n",
       "      <th>2013:Q2</th>\n",
       "      <th>2013:Q3</th>\n",
       "      <th>2013:Q4</th>\n",
       "      <th>2014:Q1</th>\n",
       "      <th>2014:Q2</th>\n",
       "      <th>...</th>\n",
       "      <th>2016:Q3</th>\n",
       "      <th>2016:Q4</th>\n",
       "      <th>2017:Q1</th>\n",
       "      <th>2017:Q2</th>\n",
       "      <th>2017:Q3</th>\n",
       "      <th>2017:Q4</th>\n",
       "      <th>2018:Q1</th>\n",
       "      <th>2018:Q2</th>\n",
       "      <th>2018:Q3</th>\n",
       "      <th>2018:Q4</th>\n",
       "    </tr>\n",
       "  </thead>\n",
       "  <tbody>\n",
       "    <tr>\n",
       "      <th>0</th>\n",
       "      <td>13782978.7</td>\n",
       "      <td>13937105.4</td>\n",
       "      <td>13907136.3</td>\n",
       "      <td>14386163.6</td>\n",
       "      <td>14010895.7</td>\n",
       "      <td>14150636.3</td>\n",
       "      <td>14240498.3</td>\n",
       "      <td>14354881.7</td>\n",
       "      <td>14616124.9</td>\n",
       "      <td>14868196.5</td>\n",
       "      <td>...</td>\n",
       "      <td>16148669</td>\n",
       "      <td>16310112.9</td>\n",
       "      <td>16550511.4</td>\n",
       "      <td>16736270.1</td>\n",
       "      <td>16925356.4</td>\n",
       "      <td>17167974.1</td>\n",
       "      <td>17383520.8</td>\n",
       "      <td>17573877.4</td>\n",
       "      <td>17795581.2</td>\n",
       "      <td>17971656.6</td>\n",
       "    </tr>\n",
       "  </tbody>\n",
       "</table>\n",
       "<p>1 rows × 28 columns</p>\n",
       "</div>"
      ],
      "text/plain": [
       "      2012:Q1     2012:Q2     2012:Q3     2012:Q4     2013:Q1     2013:Q2  \\\n",
       "0  13782978.7  13937105.4  13907136.3  14386163.6  14010895.7  14150636.3   \n",
       "\n",
       "      2013:Q3     2013:Q4     2014:Q1     2014:Q2  ...   2016:Q3     2016:Q4  \\\n",
       "0  14240498.3  14354881.7  14616124.9  14868196.5  ...  16148669  16310112.9   \n",
       "\n",
       "      2017:Q1     2017:Q2     2017:Q3     2017:Q4     2018:Q1     2018:Q2  \\\n",
       "0  16550511.4  16736270.1  16925356.4  17167974.1  17383520.8  17573877.4   \n",
       "\n",
       "      2018:Q3     2018:Q4  \n",
       "0  17795581.2  17971656.6  \n",
       "\n",
       "[1 rows x 28 columns]"
      ]
     },
     "execution_count": 17,
     "metadata": {},
     "output_type": "execute_result"
    }
   ],
   "source": [
    "#Desired Data\n",
    "new_drug_data = drug_data[['ID','Date', 'Age', 'ResidenceState', 'COD', 'Heroin', 'Cocaine', 'Fentanyl', 'Oxycodone','Oxymorphone', 'Ethanol','Hydrocodone', 'Benzodiazepine', 'Methadone','Amphet', 'Tramad']].copy()\n",
    "#new_drug_data.head()\n",
    "\n",
    "new_income_data = income_data.iloc[:, [2, 3, 4, 5, 6, 7, 8, 9, 10, 11 ,12 ,13, 14, 15, 16,17, 18, 19, 20, 21, 22, 23, 24, 25, 26, 27,28,29]]\n",
    "new_income_data.head()"
   ]
  },
  {
   "cell_type": "markdown",
   "id": "8188dc79",
   "metadata": {},
   "source": [
    "Data Cleaning: Drug Overdose Data"
   ]
  },
  {
   "cell_type": "code",
   "execution_count": null,
   "id": "50cc0686",
   "metadata": {},
   "outputs": [],
   "source": [
    "#Extract only year from Date Column\n",
    "new_drug_data['Date'] = pd.to_datetime(new_drug_data['Date'])\n",
    "new_drug_data['Date'] = pd.DatetimeIndex(new_drug_data['Date']).year"
   ]
  },
  {
   "cell_type": "code",
   "execution_count": null,
   "id": "f4656822",
   "metadata": {},
   "outputs": [],
   "source": [
    "#Extract only year from Date Column\n",
    "new_drug_data['Date'] = new_drug_data['Date'].fillna(0)\n",
    "new_drug_data['Date'] = new_drug_data['Date'].astype(int)\n",
    "new_drug_data = new_drug_data.set_index('Date')\n",
    "new_drug_data.head()"
   ]
  },
  {
   "cell_type": "code",
   "execution_count": null,
   "id": "6a581328",
   "metadata": {},
   "outputs": [],
   "source": [
    "#Edit columns not int\n",
    "new_drug_data[\"Fentanyl\"].unique()\n",
    "new_drug_data[\"Fentanyl\"] = new_drug_data.apply(lambda row: int(row[\"Fentanyl\"][:1]), axis=1)"
   ]
  },
  {
   "cell_type": "code",
   "execution_count": null,
   "id": "886f3588",
   "metadata": {},
   "outputs": [],
   "source": [
    "#Combine data to be per year (2012 to 2018)\n",
    "drug_overdose_temp = new_drug_data.groupby(by='Date').agg({'Fentanyl': 'sum',\n",
    "                            'Heroin': 'sum',\n",
    "                            'Cocaine': 'sum',\n",
    "                            'Oxycodone': 'sum',\n",
    "                            'Oxymorphone': 'sum',\n",
    "                            'Ethanol' : 'sum',\n",
    "                            'Hydrocodone' : 'sum',\n",
    "                            'Benzodiazepine': 'sum',\n",
    "                            'Methadone': 'sum',\n",
    "                            'Amphet' : 'sum',\n",
    "                            'Tramad' : 'sum'}).reset_index()\n"
   ]
  },
  {
   "cell_type": "code",
   "execution_count": null,
   "id": "0b805665",
   "metadata": {},
   "outputs": [],
   "source": [
    "drug_overdose = drug_overdose_temp.drop(drug_overdose_temp.index[0])\n",
    "drug_overdose"
   ]
  },
  {
   "cell_type": "markdown",
   "id": "473108bd",
   "metadata": {},
   "source": [
    "Data Cleaning: Personal Income Per Capita"
   ]
  },
  {
   "cell_type": "code",
   "execution_count": 25,
   "id": "1322a7c3",
   "metadata": {},
   "outputs": [],
   "source": [
    "#Concat Income Data\n",
    "income_2012 = pd.concat([new_income_data['2012:Q1'], new_income_data['2012:Q2'],new_income_data['2012:Q3'],new_income_data['2012:Q4']],                  \n",
    "                      ignore_index = True,\n",
    "                      sort = False)\n",
    "\n",
    "income_2013 = pd.concat([new_income_data['2013:Q1'], new_income_data['2013:Q2'],new_income_data['2013:Q3'],new_income_data['2013:Q4']],                  \n",
    "                      ignore_index = True,\n",
    "                      sort = False)\n",
    "\n",
    "income_2014 = pd.concat([new_income_data['2014:Q1'], new_income_data['2014:Q2'],new_income_data['2014:Q3'],new_income_data['2014:Q4']],                  \n",
    "                      ignore_index = True,\n",
    "                      sort = False)\n",
    "\n",
    "income_2015 = pd.concat([new_income_data['2015:Q1'], new_income_data['2015:Q2'],new_income_data['2015:Q3'],new_income_data['2015:Q4']],                  \n",
    "                      ignore_index = True,\n",
    "                      sort = False)\n",
    "\n",
    "income_2016 = pd.concat([new_income_data['2016:Q1'], new_income_data['2016:Q2'],new_income_data['2016:Q3'],new_income_data['2016:Q4']],                  \n",
    "                      ignore_index = True,\n",
    "                      sort = False)\n",
    "\n",
    "income_2017 = pd.concat([new_income_data['2017:Q1'], new_income_data['2017:Q2'],new_income_data['2017:Q3'],new_income_data['2017:Q4']],                  \n",
    "                      ignore_index = True,\n",
    "                      sort = False)\n",
    "\n",
    "income_2018 = pd.concat([new_income_data['2018:Q1'], new_income_data['2018:Q2'],new_income_data['2018:Q3'],new_income_data['2018:Q4']],                  \n",
    "                      ignore_index = True,\n",
    "                      sort = False)"
   ]
  },
  {
   "cell_type": "code",
   "execution_count": 22,
   "id": "3654b0e5",
   "metadata": {},
   "outputs": [
    {
     "data": {
      "text/plain": [
       "0    13782978.7\n",
       "1    13937105.4\n",
       "2    13907136.3\n",
       "3    14386163.6\n",
       "dtype: float64"
      ]
     },
     "execution_count": 22,
     "metadata": {},
     "output_type": "execute_result"
    }
   ],
   "source": [
    "income_2012"
   ]
  },
  {
   "cell_type": "code",
   "execution_count": 26,
   "id": "6e95257c",
   "metadata": {},
   "outputs": [],
   "source": [
    "#Average income per year\n",
    "average_2012 = income_2012.mean()\n",
    "average_2013 = income_2013.mean()\n",
    "average_2014 = income_2014.mean()\n",
    "average_2015 = income_2015.mean()\n",
    "average_2016 = income_2016.mean()\n",
    "average_2017 = income_2017.mean()\n",
    "average_2018 = income_2018.mean()"
   ]
  },
  {
   "cell_type": "code",
   "execution_count": 35,
   "id": "c7fd2f16",
   "metadata": {},
   "outputs": [
    {
     "data": {
      "text/plain": [
       "{'Income 2012': {14003346.000000002},\n",
       " 'Income 2013': {14189228.0},\n",
       " 'Income 2014': {14969526.975},\n",
       " 'Income 2015': {15681233.0},\n",
       " 'Income 2016': {16092713.025},\n",
       " 'Income 2017': {16845028.0},\n",
       " 'Income 2018': {17681159.0}}"
      ]
     },
     "execution_count": 35,
     "metadata": {},
     "output_type": "execute_result"
    }
   ],
   "source": [
    "#Create new DF\n",
    "yearly_income_USA = {\n",
    "    'Income 2012':{average_2012},\n",
    "    'Income 2013':{average_2013},\n",
    "    'Income 2014':{average_2014},\n",
    "    'Income 2015':{average_2015},\n",
    "    'Income 2016':{average_2016},\n",
    "    'Income 2017':{average_2017},\n",
    "    'Income 2018':{average_2018}}\n",
    "\n",
    "yearly_income_USA\n",
    "\n",
    "#Note: may have to change this format"
   ]
  },
  {
   "cell_type": "markdown",
   "id": "132128a0",
   "metadata": {},
   "source": [
    "Connect to Local Database "
   ]
  },
  {
   "cell_type": "code",
   "execution_count": null,
   "id": "8c973f2f",
   "metadata": {},
   "outputs": [],
   "source": [
    "#Connect to DB\n",
    "protocol = 'postgresql'\n",
    "username = 'postgres'\n",
    "password = ''\n",
    "host = 'localhost'\n",
    "port = 5433\n",
    "database_name = 'drug_overdose_db'\n",
    "rds_connection_string = f'{protocol}://{username}:{password}@{host}:{port}/{database_name}'\n",
    "engine = create_engine(rds_connection_string)"
   ]
  },
  {
   "cell_type": "code",
   "execution_count": null,
   "id": "3ae9e195",
   "metadata": {},
   "outputs": [],
   "source": [
    "#Check for tables\n",
    "engine.table_names()"
   ]
  },
  {
   "cell_type": "code",
   "execution_count": null,
   "id": "934296d2",
   "metadata": {},
   "outputs": [],
   "source": []
  },
  {
   "cell_type": "code",
   "execution_count": null,
   "id": "cd5ec77d",
   "metadata": {},
   "outputs": [],
   "source": [
    "#engine.table_names()"
   ]
  },
  {
   "cell_type": "code",
   "execution_count": null,
   "id": "4290f1bd",
   "metadata": {},
   "outputs": [],
   "source": []
  }
 ],
 "metadata": {
  "kernelspec": {
   "display_name": "Python 3 (ipykernel)",
   "language": "python",
   "name": "python3"
  },
  "language_info": {
   "codemirror_mode": {
    "name": "ipython",
    "version": 3
   },
   "file_extension": ".py",
   "mimetype": "text/x-python",
   "name": "python",
   "nbconvert_exporter": "python",
   "pygments_lexer": "ipython3",
   "version": "3.9.7"
  }
 },
 "nbformat": 4,
 "nbformat_minor": 5
}
